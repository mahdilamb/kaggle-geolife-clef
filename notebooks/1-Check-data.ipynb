{
 "cells": [
  {
   "cell_type": "code",
   "execution_count": 7,
   "metadata": {},
   "outputs": [
    {
     "data": {
      "text/plain": [
       "'/home/mahdi/kaggle-geolife-clef'"
      ]
     },
     "execution_count": 7,
     "metadata": {},
     "output_type": "execute_result"
    }
   ],
   "source": [
    "from jupyter_utils import common\n",
    "from jupyter_utils import polars as pl_utils\n",
    "\n",
    "from geolife_clef_2024 import datasets\n",
    "\n",
    "common.find_project_root()"
   ]
  },
  {
   "cell_type": "code",
   "execution_count": 8,
   "metadata": {},
   "outputs": [],
   "source": [
    "train_df = datasets.load_metadata(split=\"train\", group=\"PA\")\n",
    "train_df0 = datasets.load_metadata(group=\"P0\")\n",
    "test_df = datasets.load_metadata(split=\"test\", group=\"PA\")"
   ]
  },
  {
   "cell_type": "code",
   "execution_count": 9,
   "metadata": {},
   "outputs": [
    {
     "data": {
      "text/html": [
       "<div><style>\n",
       ".dataframe > thead > tr,\n",
       ".dataframe > tbody > tr {\n",
       "  text-align: right;\n",
       "  white-space: pre-wrap;\n",
       "}\n",
       "</style>\n",
       "<small>shape: (7, 5)</small><table border=\"1\" class=\"dataframe\"><thead><tr><th>column</th><th>inf</th><th>nan</th><th>null</th><th>len</th></tr><tr><td>str</td><td>u32</td><td>u32</td><td>u32</td><td>u32</td></tr></thead><tbody><tr><td>&quot;lon&quot;</td><td>0</td><td>0</td><td>0</td><td>1483637</td></tr><tr><td>&quot;lat&quot;</td><td>0</td><td>0</td><td>0</td><td>1483637</td></tr><tr><td>&quot;year&quot;</td><td>0</td><td>0</td><td>0</td><td>1483637</td></tr><tr><td>&quot;geoUncertaintyInM&quot;</td><td>0</td><td>0</td><td>12496</td><td>1483637</td></tr><tr><td>&quot;areaInM2&quot;</td><td>51592</td><td>0</td><td>183272</td><td>1483637</td></tr><tr><td>&quot;surveyId&quot;</td><td>0</td><td>0</td><td>0</td><td>1483637</td></tr><tr><td>&quot;speciesId&quot;</td><td>0</td><td>0</td><td>0</td><td>1483637</td></tr></tbody></table></div>"
      ],
      "text/plain": [
       "shape: (7, 5)\n",
       "┌───────────────────┬───────┬─────┬────────┬─────────┐\n",
       "│ column            ┆ inf   ┆ nan ┆ null   ┆ len     │\n",
       "│ ---               ┆ ---   ┆ --- ┆ ---    ┆ ---     │\n",
       "│ str               ┆ u32   ┆ u32 ┆ u32    ┆ u32     │\n",
       "╞═══════════════════╪═══════╪═════╪════════╪═════════╡\n",
       "│ lon               ┆ 0     ┆ 0   ┆ 0      ┆ 1483637 │\n",
       "│ lat               ┆ 0     ┆ 0   ┆ 0      ┆ 1483637 │\n",
       "│ year              ┆ 0     ┆ 0   ┆ 0      ┆ 1483637 │\n",
       "│ geoUncertaintyInM ┆ 0     ┆ 0   ┆ 12496  ┆ 1483637 │\n",
       "│ areaInM2          ┆ 51592 ┆ 0   ┆ 183272 ┆ 1483637 │\n",
       "│ surveyId          ┆ 0     ┆ 0   ┆ 0      ┆ 1483637 │\n",
       "│ speciesId         ┆ 0     ┆ 0   ┆ 0      ┆ 1483637 │\n",
       "└───────────────────┴───────┴─────┴────────┴─────────┘"
      ]
     },
     "execution_count": 9,
     "metadata": {},
     "output_type": "execute_result"
    }
   ],
   "source": [
    "pl_utils.check_numeric_columns(train_df)"
   ]
  },
  {
   "cell_type": "code",
   "execution_count": 10,
   "metadata": {},
   "outputs": [
    {
     "data": {
      "text/html": [
       "<div><style>\n",
       ".dataframe > thead > tr,\n",
       ".dataframe > tbody > tr {\n",
       "  text-align: right;\n",
       "  white-space: pre-wrap;\n",
       "}\n",
       "</style>\n",
       "<small>shape: (6, 5)</small><table border=\"1\" class=\"dataframe\"><thead><tr><th>column</th><th>inf</th><th>nan</th><th>null</th><th>len</th></tr><tr><td>str</td><td>u32</td><td>u32</td><td>u32</td><td>u32</td></tr></thead><tbody><tr><td>&quot;lon&quot;</td><td>0</td><td>0</td><td>0</td><td>4716</td></tr><tr><td>&quot;lat&quot;</td><td>0</td><td>0</td><td>0</td><td>4716</td></tr><tr><td>&quot;year&quot;</td><td>0</td><td>0</td><td>0</td><td>4716</td></tr><tr><td>&quot;geoUncertaintyInM&quot;</td><td>0</td><td>0</td><td>39</td><td>4716</td></tr><tr><td>&quot;areaInM2&quot;</td><td>138</td><td>0</td><td>553</td><td>4716</td></tr><tr><td>&quot;surveyId&quot;</td><td>0</td><td>0</td><td>0</td><td>4716</td></tr></tbody></table></div>"
      ],
      "text/plain": [
       "shape: (6, 5)\n",
       "┌───────────────────┬─────┬─────┬──────┬──────┐\n",
       "│ column            ┆ inf ┆ nan ┆ null ┆ len  │\n",
       "│ ---               ┆ --- ┆ --- ┆ ---  ┆ ---  │\n",
       "│ str               ┆ u32 ┆ u32 ┆ u32  ┆ u32  │\n",
       "╞═══════════════════╪═════╪═════╪══════╪══════╡\n",
       "│ lon               ┆ 0   ┆ 0   ┆ 0    ┆ 4716 │\n",
       "│ lat               ┆ 0   ┆ 0   ┆ 0    ┆ 4716 │\n",
       "│ year              ┆ 0   ┆ 0   ┆ 0    ┆ 4716 │\n",
       "│ geoUncertaintyInM ┆ 0   ┆ 0   ┆ 39   ┆ 4716 │\n",
       "│ areaInM2          ┆ 138 ┆ 0   ┆ 553  ┆ 4716 │\n",
       "│ surveyId          ┆ 0   ┆ 0   ┆ 0    ┆ 4716 │\n",
       "└───────────────────┴─────┴─────┴──────┴──────┘"
      ]
     },
     "execution_count": 10,
     "metadata": {},
     "output_type": "execute_result"
    }
   ],
   "source": [
    "pl_utils.check_numeric_columns(test_df)"
   ]
  },
  {
   "cell_type": "code",
   "execution_count": 11,
   "metadata": {},
   "outputs": [
    {
     "data": {
      "text/html": [
       "<div><style>\n",
       ".dataframe > thead > tr,\n",
       ".dataframe > tbody > tr {\n",
       "  text-align: right;\n",
       "  white-space: pre-wrap;\n",
       "}\n",
       "</style>\n",
       "<small>shape: (2, 4)</small><table border=\"1\" class=\"dataframe\"><thead><tr><th>column</th><th>null</th><th>empty</th><th>len</th></tr><tr><td>str</td><td>u32</td><td>u32</td><td>u32</td></tr></thead><tbody><tr><td>&quot;region&quot;</td><td>0</td><td>0</td><td>1483637</td></tr><tr><td>&quot;country&quot;</td><td>0</td><td>0</td><td>1483637</td></tr></tbody></table></div>"
      ],
      "text/plain": [
       "shape: (2, 4)\n",
       "┌─────────┬──────┬───────┬─────────┐\n",
       "│ column  ┆ null ┆ empty ┆ len     │\n",
       "│ ---     ┆ ---  ┆ ---   ┆ ---     │\n",
       "│ str     ┆ u32  ┆ u32   ┆ u32     │\n",
       "╞═════════╪══════╪═══════╪═════════╡\n",
       "│ region  ┆ 0    ┆ 0     ┆ 1483637 │\n",
       "│ country ┆ 0    ┆ 0     ┆ 1483637 │\n",
       "└─────────┴──────┴───────┴─────────┘"
      ]
     },
     "execution_count": 11,
     "metadata": {},
     "output_type": "execute_result"
    }
   ],
   "source": [
    "pl_utils.check_string_columns(train_df)"
   ]
  },
  {
   "cell_type": "code",
   "execution_count": 12,
   "metadata": {},
   "outputs": [
    {
     "data": {
      "text/html": [
       "<div><style>\n",
       ".dataframe > thead > tr,\n",
       ".dataframe > tbody > tr {\n",
       "  text-align: right;\n",
       "  white-space: pre-wrap;\n",
       "}\n",
       "</style>\n",
       "<small>shape: (2, 4)</small><table border=\"1\" class=\"dataframe\"><thead><tr><th>column</th><th>null</th><th>empty</th><th>len</th></tr><tr><td>str</td><td>u32</td><td>u32</td><td>u32</td></tr></thead><tbody><tr><td>&quot;region&quot;</td><td>0</td><td>0</td><td>4716</td></tr><tr><td>&quot;country&quot;</td><td>0</td><td>0</td><td>4716</td></tr></tbody></table></div>"
      ],
      "text/plain": [
       "shape: (2, 4)\n",
       "┌─────────┬──────┬───────┬──────┐\n",
       "│ column  ┆ null ┆ empty ┆ len  │\n",
       "│ ---     ┆ ---  ┆ ---   ┆ ---  │\n",
       "│ str     ┆ u32  ┆ u32   ┆ u32  │\n",
       "╞═════════╪══════╪═══════╪══════╡\n",
       "│ region  ┆ 0    ┆ 0     ┆ 4716 │\n",
       "│ country ┆ 0    ┆ 0     ┆ 4716 │\n",
       "└─────────┴──────┴───────┴──────┘"
      ]
     },
     "execution_count": 12,
     "metadata": {},
     "output_type": "execute_result"
    }
   ],
   "source": [
    "pl_utils.check_string_columns(test_df)"
   ]
  }
 ],
 "metadata": {
  "kernelspec": {
   "display_name": ".venv",
   "language": "python",
   "name": "python3"
  },
  "language_info": {
   "codemirror_mode": {
    "name": "ipython",
    "version": 3
   },
   "file_extension": ".py",
   "mimetype": "text/x-python",
   "name": "python",
   "nbconvert_exporter": "python",
   "pygments_lexer": "ipython3",
   "version": "3.11.9"
  }
 },
 "nbformat": 4,
 "nbformat_minor": 2
}
