{
 "cells": [
  {
   "cell_type": "code",
   "execution_count": null,
   "metadata": {},
   "outputs": [],
   "source": [
    "%%sh\n",
    "[ $(python3 --version | grep '3.11') ] || (sudo add-apt-repository ppa:deadsnakes/ppa &&\n",
    "    sudo apt update &&\n",
    "    sudo apt install python3.11-full -y &&\n",
    "    curl -sS https://bootstrap.pypa.io/get-pip.py | python3.11 &&\n",
    "    sudo update-alternatives --install /usr/bin/python3 python3 $(which python3.11) 1 &&\n",
    "    sudo update-alternatives --config python3 &&\n",
    "    sudo update-alternatives --install /usr/bin/python python $(which python3.11) 1 &&\n",
    "    sudo update-alternatives --config python)\n",
    "\n",
    "[ $(basename $(pwd)) = 'kaggle-geolife-clef' ] ||  (git config --global url.\"https://github.com/mahdilamb\".insteadOf \"ssh://git@github.com/mahdilamb\" &&\n",
    "    git clone https://github.com/mahdilamb/kaggle-geolife-clef.git &&\n",
    "    cd kaggle-geolife-clef &&\n",
    "    git reset --hard e3a9bfd40ca3995a173e3060b7b2d1fe825019e4 &&\n",
    "    sudo ln -s /kaggle/input/geolifeclef-2024 ./data &&\n",
    "    rm -f requirements*.txt &&\n",
    "    make install-all)"
   ]
  },
  {
   "cell_type": "code",
   "execution_count": null,
   "metadata": {},
   "outputs": [],
   "source": [
    "%%sh\n",
    "WANDB_API_KEY=$(python3 -c 'from kaggle_secrets import UserSecretsClient; print(UserSecretsClient().get_secret(\"WANDB_API_KEY\"))') python3 geolife_clef_2024/models/unimodal/satellite_image_models.py"
   ]
  }
 ],
 "metadata": {
  "language_info": {
   "name": "python"
  }
 },
 "nbformat": 4,
 "nbformat_minor": 2
}
